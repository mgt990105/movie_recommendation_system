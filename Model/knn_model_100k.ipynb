{
 "cells": [
  {
   "cell_type": "markdown",
   "id": "db8eb72b-91ac-4547-bb54-4d5c2c410c11",
   "metadata": {},
   "source": [
    "### <span style=\"color: pink;\"> Importing Libraries </span>"
   ]
  },
  {
   "cell_type": "code",
   "execution_count": 1,
   "id": "c6684066-7fd2-4e88-bb13-958a27d0d990",
   "metadata": {},
   "outputs": [],
   "source": [
    "import pandas as pd\n",
    "import numpy as np\n",
    "import cv2\n",
    "import matplotlib\n",
    "from matplotlib import pyplot as plt\n",
    "import os\n",
    "from scipy.sparse import csr_matrix\n",
    "import scipy.sparse as sp\n",
    "import itertools\n",
    "from sklearn.neighbors import NearestNeighbors\n",
    "import pickle\n",
    "from rapidfuzz import process,fuzz\n",
    "\n",
    "%matplotlib inline"
   ]
  },
  {
   "cell_type": "markdown",
   "id": "65b99389-3872-4cc1-97ae-ae8d3f9e231f",
   "metadata": {},
   "source": [
    "### <span style=\"color: pink;\"> Importing Data </span>"
   ]
  },
  {
   "cell_type": "code",
   "execution_count": 2,
   "id": "cf3c5085-7085-4287-8551-83d79c344296",
   "metadata": {},
   "outputs": [],
   "source": [
    "movies = pd.read_csv(r\"C:/Users/Mandula Thrimanne/OneDrive/Documents/Personal/Medium Articles/Movie Recommendation System/Raw Data/ml-latest-small/movies.csv\")\n",
    "ratings = pd.read_csv(r\"C:/Users/Mandula Thrimanne/OneDrive/Documents/Personal/Medium Articles/Movie Recommendation System/Raw Data/ml-latest-small/ratings.csv\")"
   ]
  },
  {
   "cell_type": "code",
   "execution_count": 3,
   "id": "227f2868-3a33-4d26-87b4-2b78bd31985d",
   "metadata": {},
   "outputs": [
    {
     "data": {
      "text/html": [
       "<div>\n",
       "<style scoped>\n",
       "    .dataframe tbody tr th:only-of-type {\n",
       "        vertical-align: middle;\n",
       "    }\n",
       "\n",
       "    .dataframe tbody tr th {\n",
       "        vertical-align: top;\n",
       "    }\n",
       "\n",
       "    .dataframe thead th {\n",
       "        text-align: right;\n",
       "    }\n",
       "</style>\n",
       "<table border=\"1\" class=\"dataframe\">\n",
       "  <thead>\n",
       "    <tr style=\"text-align: right;\">\n",
       "      <th></th>\n",
       "      <th>movieId</th>\n",
       "      <th>title</th>\n",
       "      <th>genres</th>\n",
       "    </tr>\n",
       "  </thead>\n",
       "  <tbody>\n",
       "    <tr>\n",
       "      <th>0</th>\n",
       "      <td>1</td>\n",
       "      <td>Toy Story (1995)</td>\n",
       "      <td>Adventure|Animation|Children|Comedy|Fantasy</td>\n",
       "    </tr>\n",
       "    <tr>\n",
       "      <th>1</th>\n",
       "      <td>2</td>\n",
       "      <td>Jumanji (1995)</td>\n",
       "      <td>Adventure|Children|Fantasy</td>\n",
       "    </tr>\n",
       "    <tr>\n",
       "      <th>2</th>\n",
       "      <td>3</td>\n",
       "      <td>Grumpier Old Men (1995)</td>\n",
       "      <td>Comedy|Romance</td>\n",
       "    </tr>\n",
       "    <tr>\n",
       "      <th>3</th>\n",
       "      <td>4</td>\n",
       "      <td>Waiting to Exhale (1995)</td>\n",
       "      <td>Comedy|Drama|Romance</td>\n",
       "    </tr>\n",
       "    <tr>\n",
       "      <th>4</th>\n",
       "      <td>5</td>\n",
       "      <td>Father of the Bride Part II (1995)</td>\n",
       "      <td>Comedy</td>\n",
       "    </tr>\n",
       "  </tbody>\n",
       "</table>\n",
       "</div>"
      ],
      "text/plain": [
       "   movieId                               title  \\\n",
       "0        1                    Toy Story (1995)   \n",
       "1        2                      Jumanji (1995)   \n",
       "2        3             Grumpier Old Men (1995)   \n",
       "3        4            Waiting to Exhale (1995)   \n",
       "4        5  Father of the Bride Part II (1995)   \n",
       "\n",
       "                                        genres  \n",
       "0  Adventure|Animation|Children|Comedy|Fantasy  \n",
       "1                   Adventure|Children|Fantasy  \n",
       "2                               Comedy|Romance  \n",
       "3                         Comedy|Drama|Romance  \n",
       "4                                       Comedy  "
      ]
     },
     "execution_count": 3,
     "metadata": {},
     "output_type": "execute_result"
    }
   ],
   "source": [
    "# getting a glimpse of the data\n",
    "\n",
    "movies.head()\n"
   ]
  },
  {
   "cell_type": "code",
   "execution_count": 4,
   "id": "a847b596-2f04-4fdd-a2ca-08de865a011f",
   "metadata": {},
   "outputs": [
    {
     "data": {
      "text/html": [
       "<div>\n",
       "<style scoped>\n",
       "    .dataframe tbody tr th:only-of-type {\n",
       "        vertical-align: middle;\n",
       "    }\n",
       "\n",
       "    .dataframe tbody tr th {\n",
       "        vertical-align: top;\n",
       "    }\n",
       "\n",
       "    .dataframe thead th {\n",
       "        text-align: right;\n",
       "    }\n",
       "</style>\n",
       "<table border=\"1\" class=\"dataframe\">\n",
       "  <thead>\n",
       "    <tr style=\"text-align: right;\">\n",
       "      <th></th>\n",
       "      <th>userId</th>\n",
       "      <th>movieId</th>\n",
       "      <th>rating</th>\n",
       "      <th>timestamp</th>\n",
       "    </tr>\n",
       "  </thead>\n",
       "  <tbody>\n",
       "    <tr>\n",
       "      <th>0</th>\n",
       "      <td>1</td>\n",
       "      <td>1</td>\n",
       "      <td>4.0</td>\n",
       "      <td>964982703</td>\n",
       "    </tr>\n",
       "    <tr>\n",
       "      <th>1</th>\n",
       "      <td>1</td>\n",
       "      <td>3</td>\n",
       "      <td>4.0</td>\n",
       "      <td>964981247</td>\n",
       "    </tr>\n",
       "    <tr>\n",
       "      <th>2</th>\n",
       "      <td>1</td>\n",
       "      <td>6</td>\n",
       "      <td>4.0</td>\n",
       "      <td>964982224</td>\n",
       "    </tr>\n",
       "    <tr>\n",
       "      <th>3</th>\n",
       "      <td>1</td>\n",
       "      <td>47</td>\n",
       "      <td>5.0</td>\n",
       "      <td>964983815</td>\n",
       "    </tr>\n",
       "    <tr>\n",
       "      <th>4</th>\n",
       "      <td>1</td>\n",
       "      <td>50</td>\n",
       "      <td>5.0</td>\n",
       "      <td>964982931</td>\n",
       "    </tr>\n",
       "  </tbody>\n",
       "</table>\n",
       "</div>"
      ],
      "text/plain": [
       "   userId  movieId  rating  timestamp\n",
       "0       1        1     4.0  964982703\n",
       "1       1        3     4.0  964981247\n",
       "2       1        6     4.0  964982224\n",
       "3       1       47     5.0  964983815\n",
       "4       1       50     5.0  964982931"
      ]
     },
     "execution_count": 4,
     "metadata": {},
     "output_type": "execute_result"
    }
   ],
   "source": [
    "# getting a glimpse of the data\n",
    "\n",
    "ratings.head()"
   ]
  },
  {
   "cell_type": "code",
   "execution_count": 5,
   "id": "2dfe3f2a-15fa-417f-bf98-194ca1662565",
   "metadata": {},
   "outputs": [
    {
     "data": {
      "text/plain": [
       "610"
      ]
     },
     "execution_count": 5,
     "metadata": {},
     "output_type": "execute_result"
    }
   ],
   "source": [
    "ratings['userId'].nunique()"
   ]
  },
  {
   "cell_type": "code",
   "execution_count": 6,
   "id": "0da17b6f-d875-4576-a7f6-99cac01d697b",
   "metadata": {},
   "outputs": [
    {
     "data": {
      "text/plain": [
       "9724"
      ]
     },
     "execution_count": 6,
     "metadata": {},
     "output_type": "execute_result"
    }
   ],
   "source": [
    "# debug attempt: how many unique movies are there\n",
    "\n",
    "ratings['movieId'].nunique()"
   ]
  },
  {
   "cell_type": "markdown",
   "id": "c0c4df6b-0420-47da-946a-767d88393974",
   "metadata": {},
   "source": [
    "### <span style=\"color: pink;\"> Cleaning the movies data </span>"
   ]
  },
  {
   "cell_type": "code",
   "execution_count": 7,
   "id": "8994f387-86a8-41e4-a364-fd74f4b84870",
   "metadata": {},
   "outputs": [
    {
     "data": {
      "text/html": [
       "<div>\n",
       "<style scoped>\n",
       "    .dataframe tbody tr th:only-of-type {\n",
       "        vertical-align: middle;\n",
       "    }\n",
       "\n",
       "    .dataframe tbody tr th {\n",
       "        vertical-align: top;\n",
       "    }\n",
       "\n",
       "    .dataframe thead th {\n",
       "        text-align: right;\n",
       "    }\n",
       "</style>\n",
       "<table border=\"1\" class=\"dataframe\">\n",
       "  <thead>\n",
       "    <tr style=\"text-align: right;\">\n",
       "      <th></th>\n",
       "      <th>movieId</th>\n",
       "      <th>title</th>\n",
       "      <th>genres</th>\n",
       "    </tr>\n",
       "  </thead>\n",
       "  <tbody>\n",
       "    <tr>\n",
       "      <th>10</th>\n",
       "      <td>11</td>\n",
       "      <td>American President, The (1995)</td>\n",
       "      <td>Comedy|Drama|Romance</td>\n",
       "    </tr>\n",
       "    <tr>\n",
       "      <th>28</th>\n",
       "      <td>29</td>\n",
       "      <td>City of Lost Children, The (Cité des enfants p...</td>\n",
       "      <td>Adventure|Drama|Fantasy|Mystery|Sci-Fi</td>\n",
       "    </tr>\n",
       "    <tr>\n",
       "      <th>46</th>\n",
       "      <td>50</td>\n",
       "      <td>Usual Suspects, The (1995)</td>\n",
       "      <td>Crime|Mystery|Thriller</td>\n",
       "    </tr>\n",
       "    <tr>\n",
       "      <th>49</th>\n",
       "      <td>54</td>\n",
       "      <td>Big Green, The (1995)</td>\n",
       "      <td>Children|Comedy</td>\n",
       "    </tr>\n",
       "    <tr>\n",
       "      <th>52</th>\n",
       "      <td>58</td>\n",
       "      <td>Postman, The (Postino, Il) (1994)</td>\n",
       "      <td>Comedy|Drama|Romance</td>\n",
       "    </tr>\n",
       "    <tr>\n",
       "      <th>...</th>\n",
       "      <td>...</td>\n",
       "      <td>...</td>\n",
       "      <td>...</td>\n",
       "    </tr>\n",
       "    <tr>\n",
       "      <th>8741</th>\n",
       "      <td>127180</td>\n",
       "      <td>Story of Film: An Odyssey, The (2011)</td>\n",
       "      <td>Documentary</td>\n",
       "    </tr>\n",
       "    <tr>\n",
       "      <th>8808</th>\n",
       "      <td>130578</td>\n",
       "      <td>Gunman, The (2015)</td>\n",
       "      <td>Action|Thriller</td>\n",
       "    </tr>\n",
       "    <tr>\n",
       "      <th>9018</th>\n",
       "      <td>140523</td>\n",
       "      <td>Visit, The (2015)</td>\n",
       "      <td>Comedy|Horror</td>\n",
       "    </tr>\n",
       "    <tr>\n",
       "      <th>9120</th>\n",
       "      <td>145935</td>\n",
       "      <td>Peanuts Movie, The (2015)</td>\n",
       "      <td>Adventure|Animation|Children|Comedy</td>\n",
       "    </tr>\n",
       "    <tr>\n",
       "      <th>9162</th>\n",
       "      <td>148626</td>\n",
       "      <td>Big Short, The (2015)</td>\n",
       "      <td>Drama</td>\n",
       "    </tr>\n",
       "  </tbody>\n",
       "</table>\n",
       "<p>1647 rows × 3 columns</p>\n",
       "</div>"
      ],
      "text/plain": [
       "      movieId                                              title  \\\n",
       "10         11                     American President, The (1995)   \n",
       "28         29  City of Lost Children, The (Cité des enfants p...   \n",
       "46         50                         Usual Suspects, The (1995)   \n",
       "49         54                              Big Green, The (1995)   \n",
       "52         58                  Postman, The (Postino, Il) (1994)   \n",
       "...       ...                                                ...   \n",
       "8741   127180              Story of Film: An Odyssey, The (2011)   \n",
       "8808   130578                                 Gunman, The (2015)   \n",
       "9018   140523                                  Visit, The (2015)   \n",
       "9120   145935                          Peanuts Movie, The (2015)   \n",
       "9162   148626                              Big Short, The (2015)   \n",
       "\n",
       "                                      genres  \n",
       "10                      Comedy|Drama|Romance  \n",
       "28    Adventure|Drama|Fantasy|Mystery|Sci-Fi  \n",
       "46                    Crime|Mystery|Thriller  \n",
       "49                           Children|Comedy  \n",
       "52                      Comedy|Drama|Romance  \n",
       "...                                      ...  \n",
       "8741                             Documentary  \n",
       "8808                         Action|Thriller  \n",
       "9018                           Comedy|Horror  \n",
       "9120     Adventure|Animation|Children|Comedy  \n",
       "9162                                   Drama  \n",
       "\n",
       "[1647 rows x 3 columns]"
      ]
     },
     "execution_count": 7,
     "metadata": {},
     "output_type": "execute_result"
    }
   ],
   "source": [
    "# checking the deformity in movie titles\n",
    "movies[movies['title'].str.contains(', The \\(')]"
   ]
  },
  {
   "cell_type": "code",
   "execution_count": 8,
   "id": "8b42c27b-c4d9-477d-8fff-a448a104d324",
   "metadata": {},
   "outputs": [],
   "source": [
    "# fixing the titles of movies to keep it consistent with the rest of the movies\n",
    "\n",
    "movies['title'] = movies['title'].str.replace(', The', '')"
   ]
  },
  {
   "cell_type": "code",
   "execution_count": null,
   "id": "928cb757-459a-4786-92e1-84f67bf70e14",
   "metadata": {},
   "outputs": [],
   "source": []
  },
  {
   "cell_type": "markdown",
   "id": "5e3c32bc-30fc-4714-848d-f5493b3e4123",
   "metadata": {},
   "source": [
    "### <span style=\"color: pink;\"> Tranform the dataframe into a pivot table </span>\n"
   ]
  },
  {
   "cell_type": "code",
   "execution_count": 9,
   "id": "fdfe2c9c-752b-4875-97be-bbb5ace95bcc",
   "metadata": {},
   "outputs": [
    {
     "data": {
      "text/html": [
       "<div>\n",
       "<style scoped>\n",
       "    .dataframe tbody tr th:only-of-type {\n",
       "        vertical-align: middle;\n",
       "    }\n",
       "\n",
       "    .dataframe tbody tr th {\n",
       "        vertical-align: top;\n",
       "    }\n",
       "\n",
       "    .dataframe thead th {\n",
       "        text-align: right;\n",
       "    }\n",
       "</style>\n",
       "<table border=\"1\" class=\"dataframe\">\n",
       "  <thead>\n",
       "    <tr style=\"text-align: right;\">\n",
       "      <th>userId</th>\n",
       "      <th>1</th>\n",
       "      <th>2</th>\n",
       "      <th>3</th>\n",
       "      <th>4</th>\n",
       "      <th>5</th>\n",
       "      <th>6</th>\n",
       "      <th>7</th>\n",
       "      <th>8</th>\n",
       "      <th>9</th>\n",
       "      <th>10</th>\n",
       "      <th>...</th>\n",
       "      <th>601</th>\n",
       "      <th>602</th>\n",
       "      <th>603</th>\n",
       "      <th>604</th>\n",
       "      <th>605</th>\n",
       "      <th>606</th>\n",
       "      <th>607</th>\n",
       "      <th>608</th>\n",
       "      <th>609</th>\n",
       "      <th>610</th>\n",
       "    </tr>\n",
       "    <tr>\n",
       "      <th>movieId</th>\n",
       "      <th></th>\n",
       "      <th></th>\n",
       "      <th></th>\n",
       "      <th></th>\n",
       "      <th></th>\n",
       "      <th></th>\n",
       "      <th></th>\n",
       "      <th></th>\n",
       "      <th></th>\n",
       "      <th></th>\n",
       "      <th></th>\n",
       "      <th></th>\n",
       "      <th></th>\n",
       "      <th></th>\n",
       "      <th></th>\n",
       "      <th></th>\n",
       "      <th></th>\n",
       "      <th></th>\n",
       "      <th></th>\n",
       "      <th></th>\n",
       "      <th></th>\n",
       "    </tr>\n",
       "  </thead>\n",
       "  <tbody>\n",
       "    <tr>\n",
       "      <th>1</th>\n",
       "      <td>4</td>\n",
       "      <td>0.0</td>\n",
       "      <td>0.0</td>\n",
       "      <td>0</td>\n",
       "      <td>4</td>\n",
       "      <td>0</td>\n",
       "      <td>4.5</td>\n",
       "      <td>0</td>\n",
       "      <td>0</td>\n",
       "      <td>0.0</td>\n",
       "      <td>...</td>\n",
       "      <td>4.0</td>\n",
       "      <td>0</td>\n",
       "      <td>4</td>\n",
       "      <td>3</td>\n",
       "      <td>4.0</td>\n",
       "      <td>2.5</td>\n",
       "      <td>4</td>\n",
       "      <td>2.5</td>\n",
       "      <td>3</td>\n",
       "      <td>5.0</td>\n",
       "    </tr>\n",
       "    <tr>\n",
       "      <th>2</th>\n",
       "      <td>0</td>\n",
       "      <td>0.0</td>\n",
       "      <td>0.0</td>\n",
       "      <td>0</td>\n",
       "      <td>0</td>\n",
       "      <td>4</td>\n",
       "      <td>0.0</td>\n",
       "      <td>4</td>\n",
       "      <td>0</td>\n",
       "      <td>0.0</td>\n",
       "      <td>...</td>\n",
       "      <td>0.0</td>\n",
       "      <td>4</td>\n",
       "      <td>0</td>\n",
       "      <td>5</td>\n",
       "      <td>3.5</td>\n",
       "      <td>0.0</td>\n",
       "      <td>0</td>\n",
       "      <td>2.0</td>\n",
       "      <td>0</td>\n",
       "      <td>0.0</td>\n",
       "    </tr>\n",
       "    <tr>\n",
       "      <th>3</th>\n",
       "      <td>4</td>\n",
       "      <td>0.0</td>\n",
       "      <td>0.0</td>\n",
       "      <td>0</td>\n",
       "      <td>0</td>\n",
       "      <td>5</td>\n",
       "      <td>0.0</td>\n",
       "      <td>0</td>\n",
       "      <td>0</td>\n",
       "      <td>0.0</td>\n",
       "      <td>...</td>\n",
       "      <td>0.0</td>\n",
       "      <td>0</td>\n",
       "      <td>0</td>\n",
       "      <td>0</td>\n",
       "      <td>0.0</td>\n",
       "      <td>0.0</td>\n",
       "      <td>0</td>\n",
       "      <td>2.0</td>\n",
       "      <td>0</td>\n",
       "      <td>0.0</td>\n",
       "    </tr>\n",
       "    <tr>\n",
       "      <th>4</th>\n",
       "      <td>0</td>\n",
       "      <td>0.0</td>\n",
       "      <td>0.0</td>\n",
       "      <td>0</td>\n",
       "      <td>0</td>\n",
       "      <td>3</td>\n",
       "      <td>0.0</td>\n",
       "      <td>0</td>\n",
       "      <td>0</td>\n",
       "      <td>0.0</td>\n",
       "      <td>...</td>\n",
       "      <td>0.0</td>\n",
       "      <td>0</td>\n",
       "      <td>0</td>\n",
       "      <td>0</td>\n",
       "      <td>0.0</td>\n",
       "      <td>0.0</td>\n",
       "      <td>0</td>\n",
       "      <td>0.0</td>\n",
       "      <td>0</td>\n",
       "      <td>0.0</td>\n",
       "    </tr>\n",
       "    <tr>\n",
       "      <th>5</th>\n",
       "      <td>0</td>\n",
       "      <td>0.0</td>\n",
       "      <td>0.0</td>\n",
       "      <td>0</td>\n",
       "      <td>0</td>\n",
       "      <td>5</td>\n",
       "      <td>0.0</td>\n",
       "      <td>0</td>\n",
       "      <td>0</td>\n",
       "      <td>0.0</td>\n",
       "      <td>...</td>\n",
       "      <td>0.0</td>\n",
       "      <td>0</td>\n",
       "      <td>0</td>\n",
       "      <td>3</td>\n",
       "      <td>0.0</td>\n",
       "      <td>0.0</td>\n",
       "      <td>0</td>\n",
       "      <td>0.0</td>\n",
       "      <td>0</td>\n",
       "      <td>0.0</td>\n",
       "    </tr>\n",
       "  </tbody>\n",
       "</table>\n",
       "<p>5 rows × 610 columns</p>\n",
       "</div>"
      ],
      "text/plain": [
       "userId   1    2    3    4    5    6    7    8    9    10   ...  601  602  603  \\\n",
       "movieId                                                    ...                  \n",
       "1          4  0.0  0.0    0    4    0  4.5    0    0  0.0  ...  4.0    0    4   \n",
       "2          0  0.0  0.0    0    0    4  0.0    4    0  0.0  ...  0.0    4    0   \n",
       "3          4  0.0  0.0    0    0    5  0.0    0    0  0.0  ...  0.0    0    0   \n",
       "4          0  0.0  0.0    0    0    3  0.0    0    0  0.0  ...  0.0    0    0   \n",
       "5          0  0.0  0.0    0    0    5  0.0    0    0  0.0  ...  0.0    0    0   \n",
       "\n",
       "userId   604  605  606  607  608  609  610  \n",
       "movieId                                     \n",
       "1          3  4.0  2.5    4  2.5    3  5.0  \n",
       "2          5  3.5  0.0    0  2.0    0  0.0  \n",
       "3          0  0.0  0.0    0  2.0    0  0.0  \n",
       "4          0  0.0  0.0    0  0.0    0  0.0  \n",
       "5          3  0.0  0.0    0  0.0    0  0.0  \n",
       "\n",
       "[5 rows x 610 columns]"
      ]
     },
     "execution_count": 9,
     "metadata": {},
     "output_type": "execute_result"
    }
   ],
   "source": [
    "# creating the pivot table\n",
    "\n",
    "final_dataset = ratings.pivot_table(index='movieId',columns='userId',values='rating',fill_value=0)\n",
    "final_dataset.head()"
   ]
  },
  {
   "cell_type": "code",
   "execution_count": 10,
   "id": "a4e80e6f-1299-45af-929e-b02bf9dd2eb5",
   "metadata": {},
   "outputs": [
    {
     "data": {
      "text/plain": [
       "(9724, 610)"
      ]
     },
     "execution_count": 10,
     "metadata": {},
     "output_type": "execute_result"
    }
   ],
   "source": [
    "final_dataset.shape"
   ]
  },
  {
   "cell_type": "code",
   "execution_count": null,
   "id": "9f8da06b-f997-42da-8b54-52f293df4684",
   "metadata": {},
   "outputs": [],
   "source": []
  },
  {
   "cell_type": "code",
   "execution_count": 11,
   "id": "cfabe375-a04e-4815-9401-06978c5333d6",
   "metadata": {},
   "outputs": [],
   "source": [
    "no_user_voted = ratings.groupby('movieId')['rating'].agg('count')\n",
    "no_movies_voted = ratings.groupby('userId')['rating'].agg('count')"
   ]
  },
  {
   "cell_type": "code",
   "execution_count": 12,
   "id": "e82df82d-00d7-4d4a-b072-06f0223bd815",
   "metadata": {},
   "outputs": [
    {
     "name": "stdout",
     "output_type": "stream",
     "text": [
      "movieId\n",
      "1         215\n",
      "2         110\n",
      "3          52\n",
      "4           7\n",
      "5          49\n",
      "         ... \n",
      "193581      1\n",
      "193583      1\n",
      "193585      1\n",
      "193587      1\n",
      "193609      1\n",
      "Name: rating, Length: 9724, dtype: int64\n"
     ]
    }
   ],
   "source": [
    "print(no_user_voted)"
   ]
  },
  {
   "cell_type": "markdown",
   "id": "456cddd2-82ad-4bac-8584-23b51dda07e7",
   "metadata": {},
   "source": [
    "### <span style=\"color: pink;\"> Removing noise from the data </span>"
   ]
  },
  {
   "cell_type": "code",
   "execution_count": 13,
   "id": "7bcb15d6-5df4-464a-a8e8-50336fc1d3de",
   "metadata": {},
   "outputs": [
    {
     "name": "stdout",
     "output_type": "stream",
     "text": [
      "Movies were rated by 3.0 users as the median\n",
      "Users rated 70.5 movies as the median\n",
      "Movies were rated by 10.369806663924312 users as the mean\n",
      "Users rated 165.30491803278687 movies as the mean\n"
     ]
    }
   ],
   "source": [
    "# Calculate the count of non-zero values for each row and column\n",
    "movie_rating_counts = final_dataset.astype(bool).sum(axis=1)\n",
    "user_rating_counts = final_dataset.astype(bool).sum(axis=0)\n",
    "\n",
    "print(f\"Movies were rated by {movie_rating_counts.median()} users as the median\")\n",
    "print(f\"Users rated {user_rating_counts.median()} movies as the median\")\n",
    "\n",
    "print(f\"Movies were rated by {movie_rating_counts.mean()} users as the mean\")\n",
    "print(f\"Users rated {user_rating_counts.mean()} movies as the mean\")"
   ]
  },
  {
   "cell_type": "code",
   "execution_count": 14,
   "id": "7baadc06-f575-4268-b79e-bbb323fb2d1f",
   "metadata": {},
   "outputs": [
    {
     "name": "stdout",
     "output_type": "stream",
     "text": [
      "movieId\n",
      "1         215\n",
      "2         110\n",
      "3          52\n",
      "4           7\n",
      "5          49\n",
      "         ... \n",
      "193581      1\n",
      "193583      1\n",
      "193585      1\n",
      "193587      1\n",
      "193609      1\n",
      "Length: 9724, dtype: int64\n"
     ]
    }
   ],
   "source": [
    "print(movie_rating_counts)"
   ]
  },
  {
   "cell_type": "code",
   "execution_count": 15,
   "id": "f7a68711-cc69-4ecd-8910-c933784d5f11",
   "metadata": {},
   "outputs": [
    {
     "data": {
      "text/plain": [
       "(2121, 498)"
      ]
     },
     "execution_count": 15,
     "metadata": {},
     "output_type": "execute_result"
    }
   ],
   "source": [
    "\n",
    "\n",
    "# Filter rows and columns based on the median values we found from above\n",
    "filtered_movies = movie_rating_counts[movie_rating_counts > 10].index\n",
    "filtered_users = user_rating_counts[user_rating_counts > 30].index\n",
    "\n",
    "# Select only the rows and columns that meet the condition\n",
    "final_dataset_filtered = final_dataset.loc[filtered_movies,:]\n",
    "final_dataset_filtered=final_dataset_filtered.loc[:,filtered_users]\n",
    "\n",
    "\n",
    "# Output the resulting pivot table\n",
    "final_dataset_filtered.shape\n"
   ]
  },
  {
   "cell_type": "code",
   "execution_count": 16,
   "id": "84f6605d-a53a-49d8-aaf2-615732870fec",
   "metadata": {},
   "outputs": [
    {
     "name": "stdout",
     "output_type": "stream",
     "text": [
      "userId   1    3    4    5    6    7    8    9    10   11   ...  601  602  603  \\\n",
      "movieId                                                    ...                  \n",
      "1          4  0.0    0    4    0  4.5    0    0  0.0    0  ...  4.0    0    4   \n",
      "2          0  0.0    0    0    4  0.0    4    0  0.0    0  ...  0.0    4    0   \n",
      "3          4  0.0    0    0    5  0.0    0    0  0.0    0  ...  0.0    0    0   \n",
      "5          0  0.0    0    0    5  0.0    0    0  0.0    0  ...  0.0    0    0   \n",
      "6          4  0.0    0    0    4  0.0    0    0  0.0    5  ...  0.0    3    4   \n",
      "...      ...  ...  ...  ...  ...  ...  ...  ...  ...  ...  ...  ...  ...  ...   \n",
      "174055     0  0.0    0    0    0  0.0    0    0  0.0    0  ...  4.0    0    0   \n",
      "176371     0  0.0    0    0    0  0.0    0    0  0.0    0  ...  4.0    0    0   \n",
      "177765     0  0.0    0    0    0  0.0    0    0  0.0    0  ...  4.5    0    0   \n",
      "179819     0  0.0    0    0    0  0.0    0    0  0.0    0  ...  0.0    0    0   \n",
      "187593     0  0.0    0    0    0  0.0    0    0  0.0    0  ...  0.0    0    0   \n",
      "\n",
      "userId   604  605  606  607  608  609  610  \n",
      "movieId                                     \n",
      "1          3  4.0  2.5    4  2.5    3  5.0  \n",
      "2          5  3.5  0.0    0  2.0    0  0.0  \n",
      "3          0  0.0  0.0    0  2.0    0  0.0  \n",
      "5          3  0.0  0.0    0  0.0    0  0.0  \n",
      "6          3  0.0  0.0    0  0.0    0  5.0  \n",
      "...      ...  ...  ...  ...  ...  ...  ...  \n",
      "174055     0  0.0  0.0    0  0.0    0  0.0  \n",
      "176371     0  0.0  0.0    0  0.0    0  0.0  \n",
      "177765     0  0.0  0.0    0  0.0    0  0.0  \n",
      "179819     0  0.0  0.0    0  0.0    0  0.0  \n",
      "187593     0  0.0  0.0    0  0.0    0  0.0  \n",
      "\n",
      "[2121 rows x 498 columns]\n"
     ]
    }
   ],
   "source": [
    "print(final_dataset_filtered)"
   ]
  },
  {
   "cell_type": "code",
   "execution_count": 17,
   "id": "e7e30e2a-1569-4c14-86e5-459dd8a73740",
   "metadata": {},
   "outputs": [],
   "source": [
    "# export a copy to be used in the server\n",
    "\n",
    "final_dataset_filtered.to_csv('final_dataset_filtered.csv')"
   ]
  },
  {
   "cell_type": "markdown",
   "id": "4b5ab301-2c94-48d8-90f9-32d7d68fdd95",
   "metadata": {},
   "source": [
    "### <span style=\"color: pink;\"> Converting the ratings df to a sparse matrix </span>"
   ]
  },
  {
   "cell_type": "code",
   "execution_count": 18,
   "id": "c1bc6b91-d573-46f3-8ed1-33127b7824e5",
   "metadata": {},
   "outputs": [],
   "source": [
    "csr_data = csr_matrix(final_dataset_filtered.values)\n",
    "final_dataset_filtered.reset_index(inplace=True)\n"
   ]
  },
  {
   "cell_type": "code",
   "execution_count": 19,
   "id": "1e211ffe-6d4a-4378-b683-1df936bdabc5",
   "metadata": {},
   "outputs": [],
   "source": [
    "final_dataset_filtered.to_excel('final_dataset_test.xlsx',index=False)"
   ]
  },
  {
   "cell_type": "code",
   "execution_count": 20,
   "id": "5886bd4a-4d60-41c3-a137-4191ef8e741e",
   "metadata": {},
   "outputs": [],
   "source": [
    "# print(csr_data)"
   ]
  },
  {
   "cell_type": "code",
   "execution_count": null,
   "id": "d16e73b4-eb55-4a41-9fbf-168d471c75e4",
   "metadata": {},
   "outputs": [],
   "source": []
  },
  {
   "cell_type": "markdown",
   "id": "ae0066c0-1fed-42f4-998b-ce050796afbb",
   "metadata": {},
   "source": [
    "## ^ rename the userID column as new movie id index or something"
   ]
  },
  {
   "cell_type": "markdown",
   "id": "b7ccd209-9544-4bdd-aae2-e6c484586baa",
   "metadata": {},
   "source": [
    "### <span style=\"color: pink;\"> Building the movie recommendation system using KNN </span>"
   ]
  },
  {
   "cell_type": "markdown",
   "id": "ead43525-765a-449c-a28d-f59d5ed68838",
   "metadata": {},
   "source": [
    "#### **Description:**\n",
    "\n",
    "- NearestNeighbors: This is a class from the scikit-learn library used for unsupervised neighbor-based learning. It computes nearest neighbors for input data points based on a specified distance metric.\n",
    "- metric='cosine': This parameter specifies the distance metric to be used. In this case, it's cosine similarity, which measures the cosine of the angle between two vectors.\n",
    "- algorithm='brute': This parameter specifies the algorithm used to compute nearest neighbors. 'brute' algorithm computes distances between all pairs of points in the dataset.\n",
    "- n_neighbors=11: This parameter sets the number of neighbors to consider when making predictions. Here, it's set to 11, meaning it will consider the 11 nearest neighbors.\n",
    "- n_jobs=-1: This parameter specifies the number of parallel jobs to run for neighbors search. Setting it to -1 utilizes all available CPU cores.\n",
    "- knn.fit(csr_data): This line fits the k-nearest neighbors model to the data. csr_data is the input data in compressed sparse row format (commonly used for large sparse matrices), and the model is trained to find nearest neighbors based on the specified parameters."
   ]
  },
  {
   "cell_type": "code",
   "execution_count": 21,
   "id": "715e723e-aedf-40de-9280-c02a28e37605",
   "metadata": {},
   "outputs": [
    {
     "data": {
      "text/plain": [
       "NearestNeighbors(algorithm='brute', metric='cosine', n_jobs=-1, n_neighbors=11)"
      ]
     },
     "execution_count": 21,
     "metadata": {},
     "output_type": "execute_result"
    }
   ],
   "source": [
    "knn = NearestNeighbors(metric='cosine', algorithm='brute', n_neighbors=11, n_jobs=-1)\n",
    "knn.fit(csr_data)"
   ]
  },
  {
   "cell_type": "code",
   "execution_count": null,
   "id": "a9992b1a-f4e6-4832-b4af-b7bd26e912b6",
   "metadata": {},
   "outputs": [],
   "source": []
  },
  {
   "cell_type": "code",
   "execution_count": 22,
   "id": "4f51e267-5d81-4ccf-8953-a125dcd765c1",
   "metadata": {},
   "outputs": [],
   "source": [
    "# !pip install rapidfuzz"
   ]
  },
  {
   "cell_type": "code",
   "execution_count": 23,
   "id": "cb201d11-3e1a-4792-9426-b093635b3e9b",
   "metadata": {},
   "outputs": [
    {
     "data": {
      "text/html": [
       "<div>\n",
       "<style scoped>\n",
       "    .dataframe tbody tr th:only-of-type {\n",
       "        vertical-align: middle;\n",
       "    }\n",
       "\n",
       "    .dataframe tbody tr th {\n",
       "        vertical-align: top;\n",
       "    }\n",
       "\n",
       "    .dataframe thead th {\n",
       "        text-align: right;\n",
       "    }\n",
       "</style>\n",
       "<table border=\"1\" class=\"dataframe\">\n",
       "  <thead>\n",
       "    <tr style=\"text-align: right;\">\n",
       "      <th></th>\n",
       "      <th>movieId</th>\n",
       "      <th>title</th>\n",
       "      <th>genres</th>\n",
       "    </tr>\n",
       "  </thead>\n",
       "  <tbody>\n",
       "    <tr>\n",
       "      <th>0</th>\n",
       "      <td>1</td>\n",
       "      <td>Toy Story (1995)</td>\n",
       "      <td>Adventure|Animation|Children|Comedy|Fantasy</td>\n",
       "    </tr>\n",
       "    <tr>\n",
       "      <th>1</th>\n",
       "      <td>2</td>\n",
       "      <td>Jumanji (1995)</td>\n",
       "      <td>Adventure|Children|Fantasy</td>\n",
       "    </tr>\n",
       "    <tr>\n",
       "      <th>2</th>\n",
       "      <td>3</td>\n",
       "      <td>Grumpier Old Men (1995)</td>\n",
       "      <td>Comedy|Romance</td>\n",
       "    </tr>\n",
       "    <tr>\n",
       "      <th>3</th>\n",
       "      <td>4</td>\n",
       "      <td>Waiting to Exhale (1995)</td>\n",
       "      <td>Comedy|Drama|Romance</td>\n",
       "    </tr>\n",
       "    <tr>\n",
       "      <th>4</th>\n",
       "      <td>5</td>\n",
       "      <td>Father of the Bride Part II (1995)</td>\n",
       "      <td>Comedy</td>\n",
       "    </tr>\n",
       "  </tbody>\n",
       "</table>\n",
       "</div>"
      ],
      "text/plain": [
       "   movieId                               title  \\\n",
       "0        1                    Toy Story (1995)   \n",
       "1        2                      Jumanji (1995)   \n",
       "2        3             Grumpier Old Men (1995)   \n",
       "3        4            Waiting to Exhale (1995)   \n",
       "4        5  Father of the Bride Part II (1995)   \n",
       "\n",
       "                                        genres  \n",
       "0  Adventure|Animation|Children|Comedy|Fantasy  \n",
       "1                   Adventure|Children|Fantasy  \n",
       "2                               Comedy|Romance  \n",
       "3                         Comedy|Drama|Romance  \n",
       "4                                       Comedy  "
      ]
     },
     "execution_count": 23,
     "metadata": {},
     "output_type": "execute_result"
    }
   ],
   "source": [
    "movies.head()"
   ]
  },
  {
   "cell_type": "code",
   "execution_count": 24,
   "id": "dab461d1-0e8d-49ab-8292-38c383891d52",
   "metadata": {},
   "outputs": [],
   "source": [
    "def get_movie_recommendation(movie_name):\n",
    "    \n",
    "    # number of movies to recommend\n",
    "    n_movies_to_recommend = 10\n",
    "    \n",
    "    # create a list of movies that contains the input text in its titles\n",
    "    # movie_list = movies[movies['title'].str.contains(movie_name)] \n",
    "    \n",
    "    # Get a list of matches sorted by similarity score\n",
    "    matches = process.extract(movie_name, movies['title'], scorer=fuzz.ratio)\n",
    "\n",
    "    # Convert matches to a DataFrame\n",
    "    matches_df = pd.DataFrame(matches, columns=['title', 'similarity', 'index'])\n",
    "\n",
    "    # Sort matches by similarity score\n",
    "    matches_df = matches_df.sort_values(by='similarity', ascending=False)\n",
    "    \n",
    "\n",
    "    # Extract the top title\n",
    "    top_title = matches_df['title'][0]\n",
    "    \n",
    "\n",
    "    # Filter the movies DataFrame\n",
    "    movie_list = movies[movies['title'] == top_title]\n",
    "    \n",
    "\n",
    "    # print(movie_list)\n",
    "    \n",
    "    # if there are any movies \n",
    "    if len(movie_list):        \n",
    "        \n",
    "        # take the movieId of the first movie of the list created above\n",
    "        movie_idx= movie_list.iloc[0]['movieId']\n",
    " \n",
    "        \n",
    "        # take the actual movie id and then map it back to the new index the movie got when you converted the pivot to a csr matrix\n",
    "        movie_new_idx = final_dataset_filtered[final_dataset_filtered['movieId'] == movie_idx].index[0]\n",
    "\n",
    "\n",
    "        # distances variable stores the distance between the input movie and its nearest neighbors\n",
    "        # indices stores the indices of the nearest neigbors in the the movie_idx list\n",
    "        # we put +1 here so that we end up with 10 movies since the movie itself will be the closest to the input movie\n",
    "        distances , indices = knn.kneighbors(csr_data[movie_new_idx],n_neighbors=n_movies_to_recommend+1)   \n",
    "        \n",
    "        \n",
    "        # .squeeze().tolist() removes single-dimensional entries and converts the array to a Python list\n",
    "        # zip function combines the elements of indices and distances into tuples\n",
    "        # Converts the zipped tuples into a list of tuples.\n",
    "        # Sorts the list of tuples based on the second element of each tuple, which is the distance\n",
    "        # Slices the sorted list in order, excluding the first element (which would be the movie itself as the closest neighbor) and order the remaining elements in ascending order\n",
    "        \n",
    "        rec_movie_indices = sorted(list(zip(indices.squeeze().tolist(),distances.squeeze().tolist())),key=lambda x: x[1])[0:]\n",
    "        \n",
    "        recommend_frame = []\n",
    "        recommend_frame_dict = {}\n",
    "        \n",
    "        # looping through the closest neigbors from the above list\n",
    "        for val in rec_movie_indices:\n",
    "            \n",
    "            # retrieves the originL movie ID of recommended movies from final_dataset_filtered based on its \"new\" index in the dataset\n",
    "            movie_idx = final_dataset_filtered.iloc[val[0]]['movieId']\n",
    "\n",
    "            # find the title from the original 'movies' dataset using the original movie id we found above\n",
    "            # recommend_frame.append({'Title':movies[movies['movieId']==movie_idx]['title'].values[0],'Distance':\"{:.3f}\".format(val[1])})\n",
    "            \n",
    "            # dictionary\n",
    "            title = movies[movies['movieId']==movie_idx]['title'].values[0]\n",
    "            distance = \"{:.3f}\".format(val[1])\n",
    "            \n",
    "            recommend_frame_dict[title] = distance\n",
    "            \n",
    "        # df = pd.DataFrame(recommend_frame,index=range(1,n_movies_to_reccomend+1))\n",
    "        \n",
    "        return recommend_frame_dict\n",
    "    else:\n",
    "        return \"No movies found. Please check your input\""
   ]
  },
  {
   "cell_type": "code",
   "execution_count": 27,
   "id": "0bc3f9d3-29f1-4696-8572-c8a54a0f9554",
   "metadata": {},
   "outputs": [
    {
     "data": {
      "text/plain": [
       "{'Dracula: Dead and Loving It (1995)': '0.000',\n",
       " 'Space Jam (1996)': '0.560',\n",
       " 'Jack (1996)': '0.571',\n",
       " 'Homeward Bound II: Lost in San Francisco (1996)': '0.596',\n",
       " 'All Dogs Go to Heaven 2 (1996)': '0.598',\n",
       " 'Tales from the Crypt Presents: Bordello of Blood (1996)': '0.598',\n",
       " 'Small Soldiers (1998)': '0.603',\n",
       " 'Anaconda (1997)': '0.609',\n",
       " 'Volcano (1997)': '0.619',\n",
       " 'Frighteners (1996)': '0.621',\n",
       " 'Matilda (1996)': '0.622'}"
      ]
     },
     "execution_count": 27,
     "metadata": {},
     "output_type": "execute_result"
    }
   ],
   "source": [
    "get_movie_recommendation(\"Dracula: Dead and Loving It (1995)\")"
   ]
  },
  {
   "cell_type": "code",
   "execution_count": null,
   "id": "9db89a3f-9313-4a4d-8c8d-915e686bb07b",
   "metadata": {},
   "outputs": [],
   "source": [
    "movies.head()"
   ]
  },
  {
   "cell_type": "code",
   "execution_count": null,
   "id": "88fe7ea3-d208-43d7-ab4a-42149018decf",
   "metadata": {},
   "outputs": [],
   "source": [
    "pause"
   ]
  },
  {
   "cell_type": "markdown",
   "id": "250d83b9-98a7-467d-8132-f8dfcefb6d74",
   "metadata": {},
   "source": [
    "### <span style=\"color: pink;\"> Creating a dataset of movies with atleast 10 recommendations  </span>"
   ]
  },
  {
   "cell_type": "code",
   "execution_count": null,
   "id": "731b8066-d1c8-4c04-af55-cd49c5ac15c6",
   "metadata": {},
   "outputs": [],
   "source": [
    "# creating a temporary dictionary to append data\n",
    "temp_dict = {\n",
    "    'Movie ID':[],\n",
    "    'Movie Name':[],\n",
    "    'Recommendations':[]\n",
    "}"
   ]
  },
  {
   "cell_type": "code",
   "execution_count": null,
   "id": "e9c9e3f9-5cdd-4c9b-954e-9340b03643a9",
   "metadata": {},
   "outputs": [],
   "source": [
    "# testing out the loop\n",
    "test_movie_list = movies['title'][0:10]\n",
    "# print(test_movie_list[2])\n",
    "get_movie_recommendation(test_movie_list[2])\n",
    "for movie in test_movie_list:\n",
    "    # print(movie)\n",
    "    try:\n",
    "        print(len(get_movie_recommendation(movie)))\n",
    "    except:\n",
    "        print(\"No Recommendations\")"
   ]
  },
  {
   "cell_type": "code",
   "execution_count": null,
   "id": "881bdf6e-5f07-4c83-bcc8-04a3512aa25b",
   "metadata": {},
   "outputs": [],
   "source": []
  },
  {
   "cell_type": "code",
   "execution_count": null,
   "id": "991b5966-6d81-4bf2-a2e9-3cc3150868bb",
   "metadata": {},
   "outputs": [],
   "source": [
    "# running through the actual loop\n",
    "\n",
    "movie_id_list = movies['movieId']\n",
    "movie_list = movies['title']"
   ]
  },
  {
   "cell_type": "code",
   "execution_count": null,
   "id": "24b393cf-b700-4eb6-b735-27f0c0bf1237",
   "metadata": {},
   "outputs": [],
   "source": [
    "len(temp_dict['Movie ID'])"
   ]
  },
  {
   "cell_type": "code",
   "execution_count": null,
   "id": "3728d67c-d847-4efd-9711-402d20d323e5",
   "metadata": {},
   "outputs": [],
   "source": [
    "len(temp_dict['Movie Name'])"
   ]
  },
  {
   "cell_type": "code",
   "execution_count": null,
   "id": "08d4ebae-b5f2-4f27-8335-0d1d0a86a6ef",
   "metadata": {},
   "outputs": [],
   "source": [
    "len(temp_dict['Recommendations'])"
   ]
  },
  {
   "cell_type": "code",
   "execution_count": null,
   "id": "efa7c627-1f49-4e1b-b178-6570323fc9c3",
   "metadata": {},
   "outputs": [],
   "source": [
    "count = 0\n",
    "for movie,movie_id in zip(movie_list,movie_id_list):\n",
    "    count += 1\n",
    "    # print(f\"We are checking movie #{count}\")\n",
    "    try:\n",
    "        temp_dict['Recommendations'].append(len(get_movie_recommendation(movie)))\n",
    "        temp_dict['Movie ID'].append(movie_id)\n",
    "        temp_dict['Movie Name'].append(movie)\n",
    "    except:\n",
    "        temp_dict['Recommendations'].append(\"NA\")\n",
    "        temp_dict['Movie ID'].append(movie_id)\n",
    "        temp_dict['Movie Name'].append(movie)\n",
    "\n",
    "    if count % 100 == 0:\n",
    "        df = pd.DataFrame(data=temp_dict)\n",
    "        df.to_excel('valid_movies_w_recommendations.xlsx', index=False)\n",
    "        print(\"We are printing........\")\n",
    "    else:\n",
    "        pass"
   ]
  },
  {
   "cell_type": "code",
   "execution_count": null,
   "id": "34bd7537-505b-4de3-b082-26c1a598de43",
   "metadata": {},
   "outputs": [],
   "source": [
    "df = pd.DataFrame(data=temp_dict)\n",
    "df.to_excel('valid_movies_w_recommendations.xlsx', index=False)"
   ]
  },
  {
   "cell_type": "code",
   "execution_count": null,
   "id": "b92ccc34-a8d7-4748-8a8b-4a806841036b",
   "metadata": {},
   "outputs": [],
   "source": []
  },
  {
   "cell_type": "markdown",
   "id": "5a5904c3-f7af-4739-abce-391a8f17632c",
   "metadata": {},
   "source": [
    "### <span style=\"color: pink;\"> Extracting the years from movies</span>"
   ]
  },
  {
   "cell_type": "code",
   "execution_count": null,
   "id": "6d875e87-3f28-40a2-a31b-82af1f32df83",
   "metadata": {},
   "outputs": [],
   "source": [
    "import re\n",
    "\n",
    "df['Year'] = df['Movie Name'].map(lambda x: re.search(r'\\b\\d{4}\\b', x).group() if re.search(r'\\b\\d{4}\\b', x) else None)\n"
   ]
  },
  {
   "cell_type": "code",
   "execution_count": null,
   "id": "212137a8-799b-4898-8824-5d2932e5c108",
   "metadata": {},
   "outputs": [],
   "source": [
    "df['Year'].head()"
   ]
  },
  {
   "cell_type": "code",
   "execution_count": null,
   "id": "074a8b8e-5f73-44be-b3da-5cfe767ea2bd",
   "metadata": {},
   "outputs": [],
   "source": [
    "# df.to_excel('valid_movies_w_recommendations_v2.xlsx', index=False)"
   ]
  },
  {
   "cell_type": "markdown",
   "id": "49e1b66c-0760-4b19-b0e2-2a374877b75f",
   "metadata": {},
   "source": [
    "### <span style=\"color: pink;\"> Exporting a Pickle file of the KNN model</span>"
   ]
  },
  {
   "cell_type": "code",
   "execution_count": null,
   "id": "d101b495-cbc5-4927-af62-3d2bcc05b94c",
   "metadata": {},
   "outputs": [],
   "source": [
    "# Assuming knn is your NearestNeighbors model\n",
    "# with open('Saved Model/knn_model.pkl', 'wb') as f:\n",
    "#     pickle.dump(knn, f)\n"
   ]
  },
  {
   "cell_type": "code",
   "execution_count": null,
   "id": "559332fe-cd13-468d-8574-79f284197287",
   "metadata": {},
   "outputs": [],
   "source": []
  },
  {
   "cell_type": "code",
   "execution_count": null,
   "id": "8f4fa985-61e2-455a-ad1f-6c196cc48890",
   "metadata": {},
   "outputs": [],
   "source": []
  },
  {
   "cell_type": "code",
   "execution_count": null,
   "id": "b190b507-4533-4a22-8761-112bf33b2cbb",
   "metadata": {},
   "outputs": [],
   "source": []
  },
  {
   "cell_type": "markdown",
   "id": "eb45e0b9-948c-433d-b02b-473e3cc153a0",
   "metadata": {},
   "source": [
    "## <span style=\"color: red;\"> Create a content based model to make this a hybrid model </span>"
   ]
  },
  {
   "cell_type": "code",
   "execution_count": null,
   "id": "744c9a6f-9a3b-42a6-9f1f-7ef7bc6068c1",
   "metadata": {},
   "outputs": [],
   "source": []
  }
 ],
 "metadata": {
  "kernelspec": {
   "display_name": "Python 3 (ipykernel)",
   "language": "python",
   "name": "python3"
  },
  "language_info": {
   "codemirror_mode": {
    "name": "ipython",
    "version": 3
   },
   "file_extension": ".py",
   "mimetype": "text/x-python",
   "name": "python",
   "nbconvert_exporter": "python",
   "pygments_lexer": "ipython3",
   "version": "3.9.12"
  }
 },
 "nbformat": 4,
 "nbformat_minor": 5
}
