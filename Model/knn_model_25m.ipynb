{
 "cells": [
  {
   "cell_type": "markdown",
   "id": "db8eb72b-91ac-4547-bb54-4d5c2c410c11",
   "metadata": {},
   "source": [
    "### <span style=\"color: pink;\"> Importing Libraries </span>"
   ]
  },
  {
   "cell_type": "code",
   "execution_count": 1,
   "id": "c6684066-7fd2-4e88-bb13-958a27d0d990",
   "metadata": {},
   "outputs": [],
   "source": [
    "import pandas as pd\n",
    "import numpy as np\n",
    "import cv2\n",
    "import matplotlib\n",
    "from matplotlib import pyplot as plt\n",
    "import os\n",
    "from scipy.sparse import csr_matrix\n",
    "import scipy.sparse as sp\n",
    "import itertools\n",
    "from sklearn.neighbors import NearestNeighbors\n",
    "%matplotlib inline"
   ]
  },
  {
   "cell_type": "markdown",
   "id": "65b99389-3872-4cc1-97ae-ae8d3f9e231f",
   "metadata": {},
   "source": [
    "### <span style=\"color: pink;\"> Importing Data </span>"
   ]
  },
  {
   "cell_type": "code",
   "execution_count": 2,
   "id": "cf3c5085-7085-4287-8551-83d79c344296",
   "metadata": {},
   "outputs": [],
   "source": [
    "movies = pd.read_csv(r\"C:/Users/Mandula Thrimanne/OneDrive/Documents/Personal/Medium Articles/ml-25m/movies.csv\")\n",
    "ratings = pd.read_csv(r\"C:/Users/Mandula Thrimanne/OneDrive/Documents/Personal/Medium Articles/ml-25m/ratings.csv\")"
   ]
  },
  {
   "cell_type": "code",
   "execution_count": 3,
   "id": "227f2868-3a33-4d26-87b4-2b78bd31985d",
   "metadata": {},
   "outputs": [
    {
     "data": {
      "text/html": [
       "<div>\n",
       "<style scoped>\n",
       "    .dataframe tbody tr th:only-of-type {\n",
       "        vertical-align: middle;\n",
       "    }\n",
       "\n",
       "    .dataframe tbody tr th {\n",
       "        vertical-align: top;\n",
       "    }\n",
       "\n",
       "    .dataframe thead th {\n",
       "        text-align: right;\n",
       "    }\n",
       "</style>\n",
       "<table border=\"1\" class=\"dataframe\">\n",
       "  <thead>\n",
       "    <tr style=\"text-align: right;\">\n",
       "      <th></th>\n",
       "      <th>movieId</th>\n",
       "      <th>title</th>\n",
       "      <th>genres</th>\n",
       "    </tr>\n",
       "  </thead>\n",
       "  <tbody>\n",
       "    <tr>\n",
       "      <th>0</th>\n",
       "      <td>1</td>\n",
       "      <td>Toy Story (1995)</td>\n",
       "      <td>Adventure|Animation|Children|Comedy|Fantasy</td>\n",
       "    </tr>\n",
       "    <tr>\n",
       "      <th>1</th>\n",
       "      <td>2</td>\n",
       "      <td>Jumanji (1995)</td>\n",
       "      <td>Adventure|Children|Fantasy</td>\n",
       "    </tr>\n",
       "    <tr>\n",
       "      <th>2</th>\n",
       "      <td>3</td>\n",
       "      <td>Grumpier Old Men (1995)</td>\n",
       "      <td>Comedy|Romance</td>\n",
       "    </tr>\n",
       "    <tr>\n",
       "      <th>3</th>\n",
       "      <td>4</td>\n",
       "      <td>Waiting to Exhale (1995)</td>\n",
       "      <td>Comedy|Drama|Romance</td>\n",
       "    </tr>\n",
       "    <tr>\n",
       "      <th>4</th>\n",
       "      <td>5</td>\n",
       "      <td>Father of the Bride Part II (1995)</td>\n",
       "      <td>Comedy</td>\n",
       "    </tr>\n",
       "  </tbody>\n",
       "</table>\n",
       "</div>"
      ],
      "text/plain": [
       "   movieId                               title  \\\n",
       "0        1                    Toy Story (1995)   \n",
       "1        2                      Jumanji (1995)   \n",
       "2        3             Grumpier Old Men (1995)   \n",
       "3        4            Waiting to Exhale (1995)   \n",
       "4        5  Father of the Bride Part II (1995)   \n",
       "\n",
       "                                        genres  \n",
       "0  Adventure|Animation|Children|Comedy|Fantasy  \n",
       "1                   Adventure|Children|Fantasy  \n",
       "2                               Comedy|Romance  \n",
       "3                         Comedy|Drama|Romance  \n",
       "4                                       Comedy  "
      ]
     },
     "execution_count": 3,
     "metadata": {},
     "output_type": "execute_result"
    }
   ],
   "source": [
    "# getting a glimpse of the data\n",
    "\n",
    "movies.head()\n"
   ]
  },
  {
   "cell_type": "code",
   "execution_count": 4,
   "id": "a847b596-2f04-4fdd-a2ca-08de865a011f",
   "metadata": {},
   "outputs": [
    {
     "data": {
      "text/html": [
       "<div>\n",
       "<style scoped>\n",
       "    .dataframe tbody tr th:only-of-type {\n",
       "        vertical-align: middle;\n",
       "    }\n",
       "\n",
       "    .dataframe tbody tr th {\n",
       "        vertical-align: top;\n",
       "    }\n",
       "\n",
       "    .dataframe thead th {\n",
       "        text-align: right;\n",
       "    }\n",
       "</style>\n",
       "<table border=\"1\" class=\"dataframe\">\n",
       "  <thead>\n",
       "    <tr style=\"text-align: right;\">\n",
       "      <th></th>\n",
       "      <th>userId</th>\n",
       "      <th>movieId</th>\n",
       "      <th>rating</th>\n",
       "      <th>timestamp</th>\n",
       "    </tr>\n",
       "  </thead>\n",
       "  <tbody>\n",
       "    <tr>\n",
       "      <th>0</th>\n",
       "      <td>1</td>\n",
       "      <td>296</td>\n",
       "      <td>5.0</td>\n",
       "      <td>1147880044</td>\n",
       "    </tr>\n",
       "    <tr>\n",
       "      <th>1</th>\n",
       "      <td>1</td>\n",
       "      <td>306</td>\n",
       "      <td>3.5</td>\n",
       "      <td>1147868817</td>\n",
       "    </tr>\n",
       "    <tr>\n",
       "      <th>2</th>\n",
       "      <td>1</td>\n",
       "      <td>307</td>\n",
       "      <td>5.0</td>\n",
       "      <td>1147868828</td>\n",
       "    </tr>\n",
       "    <tr>\n",
       "      <th>3</th>\n",
       "      <td>1</td>\n",
       "      <td>665</td>\n",
       "      <td>5.0</td>\n",
       "      <td>1147878820</td>\n",
       "    </tr>\n",
       "    <tr>\n",
       "      <th>4</th>\n",
       "      <td>1</td>\n",
       "      <td>899</td>\n",
       "      <td>3.5</td>\n",
       "      <td>1147868510</td>\n",
       "    </tr>\n",
       "  </tbody>\n",
       "</table>\n",
       "</div>"
      ],
      "text/plain": [
       "   userId  movieId  rating   timestamp\n",
       "0       1      296     5.0  1147880044\n",
       "1       1      306     3.5  1147868817\n",
       "2       1      307     5.0  1147868828\n",
       "3       1      665     5.0  1147878820\n",
       "4       1      899     3.5  1147868510"
      ]
     },
     "execution_count": 4,
     "metadata": {},
     "output_type": "execute_result"
    }
   ],
   "source": [
    "# getting a glimpse of the data\n",
    "\n",
    "ratings.head()"
   ]
  },
  {
   "cell_type": "code",
   "execution_count": 5,
   "id": "2dfe3f2a-15fa-417f-bf98-194ca1662565",
   "metadata": {},
   "outputs": [
    {
     "data": {
      "text/plain": [
       "162541"
      ]
     },
     "execution_count": 5,
     "metadata": {},
     "output_type": "execute_result"
    }
   ],
   "source": [
    "ratings['userId'].nunique()"
   ]
  },
  {
   "cell_type": "code",
   "execution_count": 6,
   "id": "0da17b6f-d875-4576-a7f6-99cac01d697b",
   "metadata": {},
   "outputs": [
    {
     "data": {
      "text/plain": [
       "59047"
      ]
     },
     "execution_count": 6,
     "metadata": {},
     "output_type": "execute_result"
    }
   ],
   "source": [
    "# debug attempt: how many unique movies are there\n",
    "\n",
    "ratings['movieId'].nunique()"
   ]
  },
  {
   "cell_type": "markdown",
   "id": "5e3c32bc-30fc-4714-848d-f5493b3e4123",
   "metadata": {},
   "source": [
    "### <span style=\"color: pink;\"> Tranform the dataframe into a pivot table </span>\n"
   ]
  },
  {
   "cell_type": "code",
   "execution_count": null,
   "id": "7d644e6b-4c76-450f-9814-b810e840a397",
   "metadata": {},
   "outputs": [],
   "source": [
    "import multiprocessing\n",
    "\n",
    "def process_chunk(chunk):\n",
    "    # Process each chunk and return the pivot table\n",
    "    return chunk.pivot_table(index='movieId',columns='userId',values='rating',aggfunc='mean')\n",
    "\n",
    "def parallel_pivot(df, num_processes):\n",
    "    # Split dataframe into chunks for parallel processing\n",
    "    chunks = np.array_split(df, num_processes)\n",
    "\n",
    "    # Create a multiprocessing pool\n",
    "    pool = multiprocessing.Pool(processes=num_processes)\n",
    "\n",
    "    # Apply process_chunk function to each chunk in parallel\n",
    "    pivot_tables = pool.map(process_chunk, chunks)\n",
    "\n",
    "    # Close the pool\n",
    "    pool.close()\n",
    "    pool.join()\n",
    "\n",
    "    # Combine pivot tables from different processes\n",
    "    final_pivot_table = pd.concat(pivot_tables)\n",
    "\n",
    "    return final_pivot_table\n",
    "\n",
    "# Example usage\n",
    "if __name__ == '__main__':\n",
    "    # Load your dataframe\n",
    "    ratings = pd.read_csv(r\"C:/Users/Mandula Thrimanne/OneDrive/Documents/Personal/Medium Articles/ml-25m/ratings.csv\")\n",
    "\n",
    "    # Define the number of processes to use\n",
    "    num_processes = 4\n",
    "\n",
    "    # Perform parallel pivot table processing\n",
    "    parallel_result = parallel_pivot(ratings, num_processes)\n"
   ]
  },
  {
   "cell_type": "code",
   "execution_count": null,
   "id": "b9841c5a-f0ab-42ad-895b-14d05d7ccab3",
   "metadata": {},
   "outputs": [],
   "source": []
  },
  {
   "cell_type": "code",
   "execution_count": null,
   "id": "afd1942a-a8fa-4b69-9129-b8eaacf3a9f4",
   "metadata": {},
   "outputs": [],
   "source": []
  },
  {
   "cell_type": "code",
   "execution_count": null,
   "id": "283e6be0-d0e5-4a0c-b9ff-fdd5e9b1d2c7",
   "metadata": {},
   "outputs": [],
   "source": [
    "end"
   ]
  },
  {
   "cell_type": "markdown",
   "id": "456cddd2-82ad-4bac-8584-23b51dda07e7",
   "metadata": {},
   "source": [
    "### <span style=\"color: pink;\"> Removing noise from the data </span>"
   ]
  },
  {
   "cell_type": "code",
   "execution_count": null,
   "id": "f7a68711-cc69-4ecd-8910-c933784d5f11",
   "metadata": {},
   "outputs": [],
   "source": [
    "no_user_voted = ratings.groupby('movieId')['rating'].agg('count')\n",
    "no_movies_voted = ratings.groupby('userId')['rating'].agg('count')"
   ]
  },
  {
   "cell_type": "code",
   "execution_count": null,
   "id": "c96c5415-9193-4525-8e7e-749a846e8991",
   "metadata": {},
   "outputs": [],
   "source": [
    "final_dataset = final_dataset.loc[no_user_voted[no_user_voted > 10].index,:]"
   ]
  },
  {
   "cell_type": "code",
   "execution_count": null,
   "id": "fc1cb7b0-aae0-43ab-9ba9-fb18c03128ab",
   "metadata": {},
   "outputs": [],
   "source": [
    "final_dataset=final_dataset.loc[:,no_movies_voted[no_movies_voted > 50].index]\n",
    "final_dataset"
   ]
  },
  {
   "cell_type": "code",
   "execution_count": null,
   "id": "b0ee29a5-ac60-45f0-8c34-094b881f074f",
   "metadata": {},
   "outputs": [],
   "source": []
  },
  {
   "cell_type": "markdown",
   "id": "4b5ab301-2c94-48d8-90f9-32d7d68fdd95",
   "metadata": {},
   "source": [
    "### <span style=\"color: pink;\"> Converting the ratings df to a sparse matrix </span>"
   ]
  },
  {
   "cell_type": "code",
   "execution_count": null,
   "id": "c1bc6b91-d573-46f3-8ed1-33127b7824e5",
   "metadata": {},
   "outputs": [],
   "source": [
    "csr_data = csr_matrix(final_dataset.values)\n",
    "final_dataset.reset_index(inplace=True)"
   ]
  },
  {
   "cell_type": "code",
   "execution_count": null,
   "id": "8c52c4a6-a04c-4cd4-ab46-3692d8842d19",
   "metadata": {},
   "outputs": [],
   "source": []
  },
  {
   "cell_type": "markdown",
   "id": "b7ccd209-9544-4bdd-aae2-e6c484586baa",
   "metadata": {},
   "source": [
    "### <span style=\"color: pink;\"> Building the movie recommendation system using KNN </span>"
   ]
  },
  {
   "cell_type": "code",
   "execution_count": null,
   "id": "715e723e-aedf-40de-9280-c02a28e37605",
   "metadata": {},
   "outputs": [],
   "source": [
    "knn = NearestNeighbors(metric='cosine', algorithm='brute', n_neighbors=11, n_jobs=-1)\n",
    "knn.fit(csr_data)"
   ]
  },
  {
   "cell_type": "code",
   "execution_count": null,
   "id": "dab461d1-0e8d-49ab-8292-38c383891d52",
   "metadata": {},
   "outputs": [],
   "source": [
    "def get_movie_recommendation(movie_name):\n",
    "    n_movies_to_reccomend = 10\n",
    "    movie_list = movies[movies['title'].str.contains(movie_name)]  \n",
    "    if len(movie_list):        \n",
    "        movie_idx= movie_list.iloc[0]['movieId']\n",
    "        movie_idx = final_dataset[final_dataset['movieId'] == movie_idx].index[0]\n",
    "        distances , indices = knn.kneighbors(csr_data[movie_idx],n_neighbors=n_movies_to_reccomend+1)    \n",
    "        rec_movie_indices = sorted(list(zip(indices.squeeze().tolist(),distances.squeeze().tolist())),key=lambda x: x[1])[:0:-1]\n",
    "        recommend_frame = []\n",
    "        for val in rec_movie_indices:\n",
    "            movie_idx = final_dataset.iloc[val[0]]['movieId']\n",
    "            idx = movies[movies['movieId'] == movie_idx].index\n",
    "            recommend_frame.append({'Title':movies.iloc[idx]['title'].values[0],'Distance':val[1]})\n",
    "        df = pd.DataFrame(recommend_frame,index=range(1,n_movies_to_reccomend+1))\n",
    "        return df\n",
    "    else:\n",
    "        return \"No movies found. Please check your input\""
   ]
  },
  {
   "cell_type": "code",
   "execution_count": null,
   "id": "0bc3f9d3-29f1-4696-8572-c8a54a0f9554",
   "metadata": {},
   "outputs": [],
   "source": [
    "get_movie_recommendation(\"Good Will Hunting\")"
   ]
  },
  {
   "cell_type": "code",
   "execution_count": null,
   "id": "41390a6e-09fb-49c2-a53c-20a582e3a550",
   "metadata": {},
   "outputs": [],
   "source": []
  },
  {
   "cell_type": "code",
   "execution_count": null,
   "id": "17c38168-7810-4671-87bd-06cc675e5245",
   "metadata": {},
   "outputs": [],
   "source": []
  },
  {
   "cell_type": "code",
   "execution_count": null,
   "id": "3fab1e15-2e6c-4d1b-b31e-b2a7ef2086d6",
   "metadata": {},
   "outputs": [],
   "source": []
  },
  {
   "cell_type": "code",
   "execution_count": null,
   "id": "744c9a6f-9a3b-42a6-9f1f-7ef7bc6068c1",
   "metadata": {},
   "outputs": [],
   "source": []
  }
 ],
 "metadata": {
  "kernelspec": {
   "display_name": "Python 3 (ipykernel)",
   "language": "python",
   "name": "python3"
  },
  "language_info": {
   "codemirror_mode": {
    "name": "ipython",
    "version": 3
   },
   "file_extension": ".py",
   "mimetype": "text/x-python",
   "name": "python",
   "nbconvert_exporter": "python",
   "pygments_lexer": "ipython3",
   "version": "3.9.12"
  }
 },
 "nbformat": 4,
 "nbformat_minor": 5
}
