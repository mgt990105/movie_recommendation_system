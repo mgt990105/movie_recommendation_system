{
 "cells": [
  {
   "cell_type": "markdown",
   "id": "9d4cf73d-c670-4890-8d75-b1d29803b56e",
   "metadata": {},
   "source": [
    "# Installing Libraries"
   ]
  },
  {
   "cell_type": "code",
   "execution_count": 1,
   "id": "eb4307e1-3815-42ea-85ac-e3dc32959158",
   "metadata": {},
   "outputs": [],
   "source": [
    "# ! pip3 install selenium\n",
    "# ! pip3 install webdriver_manager"
   ]
  },
  {
   "cell_type": "markdown",
   "id": "eb3d18b7-76f2-4ebd-89be-2d175549d9f6",
   "metadata": {},
   "source": [
    "# Importing Libraries"
   ]
  },
  {
   "cell_type": "code",
   "execution_count": 1,
   "id": "a8835bef-6240-4cf6-9621-5ddc73e1cb36",
   "metadata": {},
   "outputs": [],
   "source": [
    "from typing import ItemsView\n",
    "from pandas.core.frame import DataFrame\n",
    "from selenium import webdriver\n",
    "from selenium.webdriver.common.by import By\n",
    "from webdriver_manager.chrome import ChromeDriverManager\n",
    "from selenium.webdriver.chrome.options import Options\n",
    "import pandas as pd\n",
    "import time\n",
    "import requests\n",
    "import os"
   ]
  },
  {
   "cell_type": "markdown",
   "id": "68e2194c-d8d8-4fd7-a0fa-1fbbf123136e",
   "metadata": {},
   "source": [
    "# Import Data"
   ]
  },
  {
   "cell_type": "code",
   "execution_count": 3,
   "id": "7944c1f2-14b2-4293-bff3-61b200709bff",
   "metadata": {},
   "outputs": [
    {
     "name": "stdout",
     "output_type": "stream",
     "text": [
      "9730\n",
      "2124\n"
     ]
    }
   ],
   "source": [
    "# add all racers that you want to scrape images of\n",
    "\n",
    "data = pd.read_excel('valid_movies_w_recommendations_v2.xlsx')\n",
    "print(len(data))\n",
    "\n",
    "data_1 = data[data['Recommendations'] == 11]\n",
    "print(len(data_1))"
   ]
  },
  {
   "cell_type": "code",
   "execution_count": 4,
   "id": "d2780a84-39bf-4645-9800-8b0dca1839e5",
   "metadata": {},
   "outputs": [
    {
     "data": {
      "text/html": [
       "<div>\n",
       "<style scoped>\n",
       "    .dataframe tbody tr th:only-of-type {\n",
       "        vertical-align: middle;\n",
       "    }\n",
       "\n",
       "    .dataframe tbody tr th {\n",
       "        vertical-align: top;\n",
       "    }\n",
       "\n",
       "    .dataframe thead th {\n",
       "        text-align: right;\n",
       "    }\n",
       "</style>\n",
       "<table border=\"1\" class=\"dataframe\">\n",
       "  <thead>\n",
       "    <tr style=\"text-align: right;\">\n",
       "      <th></th>\n",
       "      <th>Movie ID</th>\n",
       "      <th>Movie Name</th>\n",
       "      <th>Recommendations</th>\n",
       "      <th>Year</th>\n",
       "    </tr>\n",
       "  </thead>\n",
       "  <tbody>\n",
       "    <tr>\n",
       "      <th>0</th>\n",
       "      <td>1</td>\n",
       "      <td>Toy Story (1995)</td>\n",
       "      <td>11.0</td>\n",
       "      <td>1995</td>\n",
       "    </tr>\n",
       "    <tr>\n",
       "      <th>1</th>\n",
       "      <td>2</td>\n",
       "      <td>Jumanji (1995)</td>\n",
       "      <td>11.0</td>\n",
       "      <td>1995</td>\n",
       "    </tr>\n",
       "    <tr>\n",
       "      <th>2</th>\n",
       "      <td>3</td>\n",
       "      <td>Grumpier Old Men (1995)</td>\n",
       "      <td>11.0</td>\n",
       "      <td>1995</td>\n",
       "    </tr>\n",
       "    <tr>\n",
       "      <th>4</th>\n",
       "      <td>5</td>\n",
       "      <td>Father of the Bride Part II (1995)</td>\n",
       "      <td>11.0</td>\n",
       "      <td>1995</td>\n",
       "    </tr>\n",
       "    <tr>\n",
       "      <th>5</th>\n",
       "      <td>6</td>\n",
       "      <td>Heat (1995)</td>\n",
       "      <td>11.0</td>\n",
       "      <td>1995</td>\n",
       "    </tr>\n",
       "  </tbody>\n",
       "</table>\n",
       "</div>"
      ],
      "text/plain": [
       "   Movie ID                          Movie Name  Recommendations  Year\n",
       "0         1                    Toy Story (1995)             11.0  1995\n",
       "1         2                      Jumanji (1995)             11.0  1995\n",
       "2         3             Grumpier Old Men (1995)             11.0  1995\n",
       "4         5  Father of the Bride Part II (1995)             11.0  1995\n",
       "5         6                         Heat (1995)             11.0  1995"
      ]
     },
     "execution_count": 4,
     "metadata": {},
     "output_type": "execute_result"
    }
   ],
   "source": [
    "data_1.head()"
   ]
  },
  {
   "cell_type": "markdown",
   "id": "017d34e1-7c9f-43d6-8971-e74ef60cac92",
   "metadata": {},
   "source": []
  },
  {
   "cell_type": "code",
   "execution_count": 5,
   "id": "2c9f4db5-28f8-4d89-b895-0da9062bcc6d",
   "metadata": {},
   "outputs": [],
   "source": [
    "# data_1['Movie Name Edited'] \n",
    "\n",
    "\n",
    "movie_list = data_1['Movie Name']"
   ]
  },
  {
   "cell_type": "code",
   "execution_count": null,
   "id": "3ec44f1a-d5a0-441c-ae62-64698454a7ec",
   "metadata": {},
   "outputs": [],
   "source": []
  },
  {
   "cell_type": "code",
   "execution_count": null,
   "id": "2017c2e1-e036-4e80-b88e-065416c5e6c6",
   "metadata": {},
   "outputs": [],
   "source": []
  },
  {
   "cell_type": "markdown",
   "id": "40e38101-6be4-4450-9d61-5d48749544c9",
   "metadata": {},
   "source": [
    "# Function: Scrape links from images"
   ]
  },
  {
   "cell_type": "code",
   "execution_count": 6,
   "id": "a701f3a6-b6e7-4b01-89e1-8d5e59980c6b",
   "metadata": {},
   "outputs": [],
   "source": [
    "def search_google(search_query):\n",
    "\n",
    "    search_url = f\"https://www.google.com/search?site=&tbm=isch&source=hp&biw=1873&bih=990&q={search_query}+imdb+poster\"\n",
    "\n",
    "\n",
    "    # Open browser to begin search\n",
    "    browser.get(search_url)\n",
    "\n",
    "    # Maximize the window\n",
    "    browser.maximize_window()\n",
    "\n",
    "    time.sleep(2)\n",
    "    \n",
    "    try:\n",
    "\n",
    "        img_box = browser.find_elements(By.CSS_SELECTOR,'div.H8Rx8c')[0]\n",
    "\n",
    "        img_box.click()\n",
    "    except:\n",
    "        img_box = browser.find_elements(By.CSS_SELECTOR,'div.H8Rx8c')[1]\n",
    "\n",
    "        img_box.click()\n",
    "        \n",
    "\n",
    "\n",
    "    time.sleep(2)\n",
    "\n",
    "    # extract the link\n",
    "\n",
    "\n",
    "    img_box_2 = browser.find_elements(By.CSS_SELECTOR,'div.p7sI2')[0]\n",
    "\n",
    "    link = img_box_2.find_elements(By.TAG_NAME,'img')[0].get_attribute('src')\n",
    "    \n",
    "    \n",
    "    return search_query,link\n",
    "    \n",
    "    # print(file_name)\n",
    "    # print(link)\n"
   ]
  },
  {
   "cell_type": "markdown",
   "id": "dbea4970-4239-435c-a237-bf2b3a7aab24",
   "metadata": {},
   "source": [
    "# Looping through the above link scraping function"
   ]
  },
  {
   "cell_type": "code",
   "execution_count": 7,
   "id": "895f39dd-cf09-458b-b594-6315692aa251",
   "metadata": {},
   "outputs": [
    {
     "name": "stdout",
     "output_type": "stream",
     "text": [
      "We have scraped 1240 links out of 2124\n",
      "We have scraped 1260 links out of 2124\n",
      "We have scraped 1280 links out of 2124\n",
      "We have scraped 1300 links out of 2124\n",
      "We have scraped 1320 links out of 2124\n",
      "We have scraped 1340 links out of 2124\n",
      "We have scraped 1360 links out of 2124\n",
      "We have scraped 1380 links out of 2124\n",
      "We have scraped 1400 links out of 2124\n",
      "We have scraped 1420 links out of 2124\n",
      "We have scraped 1440 links out of 2124\n",
      "We have scraped 1460 links out of 2124\n",
      "We have scraped 1480 links out of 2124\n",
      "We have scraped 1500 links out of 2124\n",
      "We have scraped 1520 links out of 2124\n",
      "We have scraped 1540 links out of 2124\n",
      "We have scraped 1560 links out of 2124\n",
      "We have scraped 1580 links out of 2124\n",
      "We have scraped 1600 links out of 2124\n",
      "We have scraped 1620 links out of 2124\n",
      "We have scraped 1640 links out of 2124\n",
      "We have scraped 1660 links out of 2124\n",
      "We have scraped 1680 links out of 2124\n",
      "We have scraped 1700 links out of 2124\n",
      "We have scraped 1720 links out of 2124\n",
      "We have scraped 1740 links out of 2124\n",
      "We have scraped 1760 links out of 2124\n",
      "We have scraped 1780 links out of 2124\n",
      "We have scraped 1800 links out of 2124\n",
      "We have scraped 1820 links out of 2124\n",
      "We have scraped 1840 links out of 2124\n",
      "We have scraped 1860 links out of 2124\n",
      "We have scraped 1880 links out of 2124\n",
      "We have scraped 1900 links out of 2124\n",
      "We have scraped 1920 links out of 2124\n",
      "We have scraped 1940 links out of 2124\n",
      "We have scraped 1960 links out of 2124\n",
      "We have scraped 1980 links out of 2124\n",
      "We have scraped 2000 links out of 2124\n",
      "We have scraped 2020 links out of 2124\n",
      "We have scraped 2040 links out of 2124\n",
      "We have scraped 2060 links out of 2124\n",
      "We have scraped 2080 links out of 2124\n",
      "We have scraped 2100 links out of 2124\n",
      "We have scraped 2120 links out of 2124\n"
     ]
    }
   ],
   "source": [
    "browser = webdriver.Chrome()\n",
    "\n",
    "# movie_list_test = movie_list[0:10]\n",
    "\n",
    "\n",
    "data_dic = {\n",
    "            \"Movie Name\":[],\n",
    "            \"Image Link\":[]\n",
    "           }\n",
    "\n",
    "count = 1238\n",
    "\n",
    "# if the scrape ever stops you can starts from where you left of\n",
    "\n",
    "movie_list = data_1['Movie Name']\n",
    "movie_list = movie_list[1238:]\n",
    "\n",
    "for movie in movie_list:\n",
    "    \n",
    "    count += 1\n",
    "    \n",
    "    movie_name,link = search_google(movie)\n",
    "    \n",
    "    \n",
    "    file_name = movie_name.lower().replace(\" \", \"_\")\n",
    "    \n",
    "    data_dic[\"Movie Name\"].append(file_name)\n",
    "    data_dic[\"Image Link\"].append(link)\n",
    "     \n",
    "    \n",
    "    # export the dictionary to an excel\n",
    "    if count % 20 == 0:\n",
    "        df = pd.DataFrame(data=data_dic)\n",
    "        df.to_excel(f'movie_image_links_4.xlsx', index=False)\n",
    "        print(f\"We have scraped {count} links out of 2124\")\n",
    "    \n",
    "        \n",
    "\n",
    "\n",
    "\n",
    "            \n",
    "    \n",
    "    \n",
    "    "
   ]
  },
  {
   "cell_type": "code",
   "execution_count": 8,
   "id": "0a90d457-abc6-43fe-ab22-0278133a5276",
   "metadata": {},
   "outputs": [
    {
     "ename": "NameError",
     "evalue": "name 'pause' is not defined",
     "output_type": "error",
     "traceback": [
      "\u001b[1;31m---------------------------------------------------------------------------\u001b[0m",
      "\u001b[1;31mNameError\u001b[0m                                 Traceback (most recent call last)",
      "Input \u001b[1;32mIn [8]\u001b[0m, in \u001b[0;36m<cell line: 1>\u001b[1;34m()\u001b[0m\n\u001b[1;32m----> 1\u001b[0m \u001b[43mpause\u001b[49m\n",
      "\u001b[1;31mNameError\u001b[0m: name 'pause' is not defined"
     ]
    }
   ],
   "source": [
    "# pause"
   ]
  },
  {
   "cell_type": "code",
   "execution_count": 9,
   "id": "5bff4a72-87b1-4e1a-be77-ef48b2b8fb38",
   "metadata": {},
   "outputs": [],
   "source": [
    "df = pd.DataFrame(data=data_dic)\n",
    "df.to_excel(f'movie_image_links_4.xlsx', index=False)"
   ]
  },
  {
   "cell_type": "markdown",
   "id": "445744a7-4e50-4f50-b13c-996db9254993",
   "metadata": {},
   "source": [
    "# Function: Download images from links"
   ]
  },
  {
   "cell_type": "code",
   "execution_count": 2,
   "id": "fe213448-32c2-4dd4-8d57-d45bcbd26010",
   "metadata": {},
   "outputs": [],
   "source": [
    "# creating a function that saves images from the links scraped\n",
    "\n",
    "\n",
    "\n",
    "def download_images(url,file_name):\n",
    "\n",
    "    try:\n",
    "    \n",
    "        img_data = requests.get(url).content\n",
    "        with open(f'images/movie-posters/{file_name}.jpg', 'wb') as handler:\n",
    "            handler.write(img_data)\n",
    "    \n",
    "    \n",
    "    except Exception as e: \n",
    "        \n",
    "        pass"
   ]
  },
  {
   "cell_type": "code",
   "execution_count": null,
   "id": "851b49d8-789e-4602-96fe-db8754e4a099",
   "metadata": {},
   "outputs": [],
   "source": []
  },
  {
   "cell_type": "code",
   "execution_count": null,
   "id": "1d378f47-5def-4f19-ba20-412cca31ee40",
   "metadata": {},
   "outputs": [],
   "source": []
  },
  {
   "cell_type": "markdown",
   "id": "a6464d9c-6e0b-450b-bb4d-1ed1711ccfdd",
   "metadata": {},
   "source": [
    "# Looping through the above image downloading function"
   ]
  },
  {
   "cell_type": "code",
   "execution_count": 3,
   "id": "eb5efa1a-bbd6-4d78-b586-61b9bf902b76",
   "metadata": {},
   "outputs": [
    {
     "data": {
      "text/html": [
       "<div>\n",
       "<style scoped>\n",
       "    .dataframe tbody tr th:only-of-type {\n",
       "        vertical-align: middle;\n",
       "    }\n",
       "\n",
       "    .dataframe tbody tr th {\n",
       "        vertical-align: top;\n",
       "    }\n",
       "\n",
       "    .dataframe thead th {\n",
       "        text-align: right;\n",
       "    }\n",
       "</style>\n",
       "<table border=\"1\" class=\"dataframe\">\n",
       "  <thead>\n",
       "    <tr style=\"text-align: right;\">\n",
       "      <th></th>\n",
       "      <th>Movie Name</th>\n",
       "      <th>Image Link</th>\n",
       "    </tr>\n",
       "  </thead>\n",
       "  <tbody>\n",
       "    <tr>\n",
       "      <th>0</th>\n",
       "      <td>toy_story_(1995)</td>\n",
       "      <td>https://m.media-amazon.com/images/M/MV5BMDU2ZW...</td>\n",
       "    </tr>\n",
       "    <tr>\n",
       "      <th>1</th>\n",
       "      <td>jumanji_(1995)</td>\n",
       "      <td>https://m.media-amazon.com/images/M/MV5BZTk2Zm...</td>\n",
       "    </tr>\n",
       "    <tr>\n",
       "      <th>2</th>\n",
       "      <td>grumpier_old_men_(1995)</td>\n",
       "      <td>https://m.media-amazon.com/images/M/MV5BMDkwYT...</td>\n",
       "    </tr>\n",
       "    <tr>\n",
       "      <th>3</th>\n",
       "      <td>father_of_the_bride_part_ii_(1995)</td>\n",
       "      <td>https://m.media-amazon.com/images/M/MV5BOTMwNz...</td>\n",
       "    </tr>\n",
       "    <tr>\n",
       "      <th>4</th>\n",
       "      <td>heat_(1995)</td>\n",
       "      <td>https://m.media-amazon.com/images/M/MV5BYjZjNT...</td>\n",
       "    </tr>\n",
       "  </tbody>\n",
       "</table>\n",
       "</div>"
      ],
      "text/plain": [
       "                           Movie Name  \\\n",
       "0                    toy_story_(1995)   \n",
       "1                      jumanji_(1995)   \n",
       "2             grumpier_old_men_(1995)   \n",
       "3  father_of_the_bride_part_ii_(1995)   \n",
       "4                         heat_(1995)   \n",
       "\n",
       "                                          Image Link  \n",
       "0  https://m.media-amazon.com/images/M/MV5BMDU2ZW...  \n",
       "1  https://m.media-amazon.com/images/M/MV5BZTk2Zm...  \n",
       "2  https://m.media-amazon.com/images/M/MV5BMDkwYT...  \n",
       "3  https://m.media-amazon.com/images/M/MV5BOTMwNz...  \n",
       "4  https://m.media-amazon.com/images/M/MV5BYjZjNT...  "
      ]
     },
     "execution_count": 3,
     "metadata": {},
     "output_type": "execute_result"
    }
   ],
   "source": [
    "links_df = pd.read_excel('movie_image_links_final.xlsx')\n",
    "#\n",
    "links_df.head()"
   ]
  },
  {
   "cell_type": "code",
   "execution_count": 4,
   "id": "a53db1e6-d681-4684-8ba6-4731a3d7dcb6",
   "metadata": {},
   "outputs": [],
   "source": [
    "# links_df.head(10)"
   ]
  },
  {
   "cell_type": "code",
   "execution_count": 5,
   "id": "d1019d54-235d-4bca-82bc-edc0646470f5",
   "metadata": {},
   "outputs": [],
   "source": [
    "# creating two lists\n",
    "image_links = links_df['Image Link']\n",
    "movie_list = links_df['Movie Name']\n",
    "\n",
    "# editing the movie_list to match the output from util\n",
    "\n",
    "movie_list = movie_list.str.replace(', The', '')\n",
    "movie_list = movie_list.str.replace(':', '')"
   ]
  },
  {
   "cell_type": "code",
   "execution_count": 6,
   "id": "7a6c7e26-dfc0-4819-87c3-429b2eea7b4c",
   "metadata": {},
   "outputs": [],
   "source": [
    "# movie_list.head(10)"
   ]
  },
  {
   "cell_type": "code",
   "execution_count": 7,
   "id": "31ae33b6-66e6-454c-9694-149d31be7528",
   "metadata": {},
   "outputs": [],
   "source": [
    "for link,movie in zip(image_links,movie_list):\n",
    "    download_images(link,movie)\n",
    "    "
   ]
  },
  {
   "cell_type": "code",
   "execution_count": null,
   "id": "53bc14cc-353f-47b4-994e-77b5e1493151",
   "metadata": {},
   "outputs": [],
   "source": [
    "# image_links[0]"
   ]
  },
  {
   "cell_type": "code",
   "execution_count": null,
   "id": "8920d991-4e2f-4d04-8252-8aae0e36d601",
   "metadata": {},
   "outputs": [],
   "source": [
    "pause"
   ]
  },
  {
   "cell_type": "code",
   "execution_count": null,
   "id": "2c935dd7-72fa-42ed-aa50-5062659331a2",
   "metadata": {},
   "outputs": [],
   "source": []
  },
  {
   "cell_type": "code",
   "execution_count": null,
   "id": "f06cbb89-94e7-4c0a-993b-a25c8d2adb27",
   "metadata": {},
   "outputs": [],
   "source": []
  },
  {
   "cell_type": "code",
   "execution_count": null,
   "id": "551dbad2-e20b-47e1-afbc-9c0b9a8a477d",
   "metadata": {},
   "outputs": [],
   "source": []
  },
  {
   "cell_type": "code",
   "execution_count": null,
   "id": "26937b7d-8373-492c-856a-e92140ec6d42",
   "metadata": {},
   "outputs": [],
   "source": []
  },
  {
   "cell_type": "code",
   "execution_count": null,
   "id": "edafda4b-ff69-49e7-9565-780043b4941c",
   "metadata": {},
   "outputs": [],
   "source": []
  },
  {
   "cell_type": "code",
   "execution_count": null,
   "id": "d84b7ac1-c0f5-48ab-95a7-6fd6a07f2e72",
   "metadata": {},
   "outputs": [],
   "source": []
  },
  {
   "cell_type": "code",
   "execution_count": null,
   "id": "0378b3a4-3eea-4823-817b-471eee9d7fa1",
   "metadata": {},
   "outputs": [],
   "source": []
  },
  {
   "cell_type": "code",
   "execution_count": null,
   "id": "7e2b90e2-a372-48e4-953f-68b8211b5a2f",
   "metadata": {},
   "outputs": [],
   "source": []
  },
  {
   "cell_type": "code",
   "execution_count": null,
   "id": "9cc80b4e-a7a6-4ce5-9add-cf3b2929fec3",
   "metadata": {},
   "outputs": [],
   "source": []
  },
  {
   "cell_type": "code",
   "execution_count": null,
   "id": "c47277dc-c569-40c3-a98a-67048059c523",
   "metadata": {},
   "outputs": [],
   "source": []
  },
  {
   "cell_type": "code",
   "execution_count": null,
   "id": "4b9bc894-0bd6-457e-bdce-ef14bcdc87b3",
   "metadata": {},
   "outputs": [],
   "source": [
    "img_data = requests.get(image_links[0]).content\n",
    "img_data"
   ]
  },
  {
   "cell_type": "markdown",
   "id": "a73c00a8-d03e-4c7a-8bcf-d806ce39c759",
   "metadata": {},
   "source": [
    "# Chrome Driver Manager"
   ]
  },
  {
   "cell_type": "code",
   "execution_count": null,
   "id": "b2787930-74cd-4b13-9d50-088236969514",
   "metadata": {},
   "outputs": [],
   "source": [
    "# creating a function to scrape data\n",
    "\n",
    "def search_google(search_query):\n",
    "    \n",
    "    # breaking the name down\n",
    "    \n",
    "    converted_name = search_query.lower().replace(\" \", \"_\")\n",
    "    \n",
    "    data_dic = {\n",
    "                \"Keyword\":[],\n",
    "                \"Image Link\":[]\n",
    "               }\n",
    "    \n",
    "    search_url = f\"https://www.google.com/search?site=&tbm=isch&source=hp&biw=1873&bih=990&q={search_query}\"\n",
    "\n",
    "    browser = webdriver.Chrome()\n",
    "\n",
    "    # Open browser to begin search\n",
    "    browser.get(search_url)\n",
    "    \n",
    "    # Maximize the window\n",
    "    browser.maximize_window()\n",
    "    \n",
    "    time.sleep(3)\n",
    "    \n",
    "    count = 0\n",
    "    \n",
    "    for i in range(0,300):\n",
    "        \n",
    "        count += 1\n",
    "        \n",
    "        #click the picture\n",
    "    \n",
    "        img_box = browser.find_elements(By.CSS_SELECTOR,'div.fR600b')[i]\n",
    "        \n",
    "        try:\n",
    "            img_box.click()\n",
    "        \n",
    "\n",
    "            time.sleep(5)\n",
    "        \n",
    "            # extract the link\n",
    "        \n",
    "        \n",
    "            img_box_2 = browser.find_elements(By.CSS_SELECTOR,'div.p7sI2')[1]\n",
    "\n",
    "            link = img_box_2.find_elements(By.TAG_NAME,'img')[0].get_attribute('src')\n",
    "            \n",
    "        except:\n",
    "            \n",
    "            # if the click gets interecepted\n",
    "            \n",
    "            try:\n",
    "            \n",
    "                browser.execute_script(\"window.scrollBy(0, 100);\")\n",
    "\n",
    "                time.sleep(2)\n",
    "\n",
    "                img_box.click()\n",
    "\n",
    "\n",
    "                time.sleep(5)\n",
    "\n",
    "                # extract the link\n",
    "\n",
    "\n",
    "                img_box_2 = browser.find_elements(By.CSS_SELECTOR,'div.p7sI2')[1]\n",
    "\n",
    "                link = img_box_2.find_elements(By.TAG_NAME,'img')[0].get_attribute('src')\n",
    "                \n",
    "            except:\n",
    "                \n",
    "                pass\n",
    "\n",
    "        # append to a dictionary\n",
    "        \n",
    "        \n",
    "        data_dic[\"Keyword\"].append(keyword)\n",
    "        data_dic[\"Image Link\"].append(link)\n",
    "     \n",
    "    # export the dictionary to an excel\n",
    "        \n",
    "        if count % 20 == 0:\n",
    "    \n",
    "            df = pd.DataFrame(data=data_dic)\n",
    "\n",
    "            df.to_excel(f'excel_links/{converted_name}_links.xlsx', index=False)\n",
    "            \n",
    "            print(f\"Downloaded {count} images of {search_query}\")\n",
    "    \n",
    "\n",
    "    \n",
    "    browser.close()\n"
   ]
  },
  {
   "cell_type": "code",
   "execution_count": null,
   "id": "e73ce29d-6333-4949-a382-3b5fd2d63fd8",
   "metadata": {},
   "outputs": [],
   "source": [
    "# running the seach function\n",
    "\n",
    "for keyword in keywords:\n",
    "    print(f\"Downloading Images of {keyword}\")\n",
    "    search_google(keyword)"
   ]
  },
  {
   "cell_type": "markdown",
   "id": "52663b14-5762-44c4-ba50-aa7c6e999c0b",
   "metadata": {},
   "source": [
    "## Creating a function to download picture from the urls"
   ]
  },
  {
   "cell_type": "code",
   "execution_count": null,
   "id": "fed32f0b-e43a-4ac8-b68c-d8846c248e49",
   "metadata": {},
   "outputs": [],
   "source": [
    "# creating a function that saves images from the links scraped\n",
    "\n",
    "def download_images(url,count,query):\n",
    "\n",
    "    try:\n",
    "    \n",
    "        img_data = requests.get(url).content\n",
    "        with open(f'raw_images/{query}/{query}_{count}.jpg', 'wb') as handler:\n",
    "            handler.write(img_data)\n",
    "    \n",
    "    \n",
    "    except Exception as e: \n",
    "        \n",
    "        pass"
   ]
  },
  {
   "cell_type": "markdown",
   "id": "fba26556-ab98-4daa-ba9c-6f65b1f71a1d",
   "metadata": {},
   "source": [
    "## Crating folders to save images"
   ]
  },
  {
   "cell_type": "code",
   "execution_count": null,
   "id": "eac7cf31-a003-4647-9157-111974425308",
   "metadata": {},
   "outputs": [],
   "source": [
    "\n",
    "# Specify the path where you want to create the folders\n",
    "path = \"raw_images/\"\n",
    "\n",
    "# List of folder names you want to create\n",
    "folders = [name.lower().replace(\" \", \"_\") for name in keywords]\n",
    "\n",
    "# Iterate over the list of folder names and create them\n",
    "for folder in folders:\n",
    "    folder_path = os.path.join(path, folder)\n",
    "    os.makedirs(folder_path, exist_ok=True)  # exist_ok=True prevents an error if the folder already exists\n",
    "    print(f\"Folder '{folder}' created at {folder_path}\")"
   ]
  },
  {
   "cell_type": "code",
   "execution_count": null,
   "id": "4f4c90a8-1703-4f18-9508-3e334bf53ecb",
   "metadata": {},
   "outputs": [],
   "source": [
    "# Import the previously exported file and run a loop through the download_images function\n",
    "\n",
    "\n",
    "query_list = [name.lower().replace(\" \", \"_\") for name in keywords]\n",
    "\n",
    "for query in query_list:\n",
    "\n",
    "    \n",
    "    url_data = pd.read_excel(f'excel_links/{query}_links.xlsx')\n",
    "\n",
    "    #create a list of the urls\n",
    "\n",
    "    url_list = list(url_data['Image Link'])\n",
    "\n",
    "    # create a list for the number of images\n",
    "\n",
    "    image_count = list(range(0,300))\n",
    "\n",
    "    # create a list for the queries\n",
    "    \n",
    "\n",
    "    # download all images from the links\n",
    "\n",
    "    for (i,f) in zip(url_list,image_count):\n",
    "\n",
    "        download_images(i,f,query)\n",
    "        \n",
    "    print(f\"Successfully saved images of {query}\")"
   ]
  },
  {
   "cell_type": "code",
   "execution_count": null,
   "id": "79e96279-483d-4b68-8f13-6a75ea905af9",
   "metadata": {},
   "outputs": [],
   "source": [
    "# if saving images gets stuck in the middle - which it will from time to time\n",
    "\n",
    "# query_list = [name.lower().replace(\" \", \"_\") for name in keywords]\n",
    "\n",
    "# query = 'zhou_guanyu'\n",
    "\n",
    "# url_data = pd.read_excel(f'excel_links/zhou_guanyu_links.xlsx')\n",
    "\n",
    "# #create a list of the urls\n",
    "\n",
    "# url_list = list(url_data['Image Link'])[186:300]\n",
    "\n",
    "# # create a list for the number of images\n",
    "\n",
    "# image_count = list(range(186,300))\n",
    "\n",
    "# # create a list for the queries\n",
    "\n",
    "\n",
    "# # download all images from the links\n",
    "\n",
    "# for (i,f) in zip(url_list,image_count):\n",
    "\n",
    "#     download_images(i,f,query)\n",
    "\n",
    "#     print(f\"saving image # {f} of {query}\")"
   ]
  },
  {
   "cell_type": "code",
   "execution_count": null,
   "id": "1356b94e-e46f-4e73-8ebd-afaa3cffe6da",
   "metadata": {},
   "outputs": [],
   "source": []
  },
  {
   "cell_type": "code",
   "execution_count": null,
   "id": "eccf002f-b16e-4a65-b2ef-bf5c351d11a5",
   "metadata": {},
   "outputs": [],
   "source": []
  }
 ],
 "metadata": {
  "kernelspec": {
   "display_name": "Python 3 (ipykernel)",
   "language": "python",
   "name": "python3"
  },
  "language_info": {
   "codemirror_mode": {
    "name": "ipython",
    "version": 3
   },
   "file_extension": ".py",
   "mimetype": "text/x-python",
   "name": "python",
   "nbconvert_exporter": "python",
   "pygments_lexer": "ipython3",
   "version": "3.9.12"
  }
 },
 "nbformat": 4,
 "nbformat_minor": 5
}
